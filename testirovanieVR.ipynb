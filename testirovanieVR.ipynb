{
 "cells": [
  {
   "cell_type": "code",
   "execution_count": 2,
   "metadata": {},
   "outputs": [],
   "source": [
    "import matplotlib.pyplot as plt\n",
    "import sys\n",
    "import time\n",
    "import numpy as np\n",
    "import pandas as pd"
   ]
  },
  {
   "cell_type": "code",
   "execution_count": 17,
   "metadata": {},
   "outputs": [
    {
     "data": {
      "text/plain": [
       "array([-0.0676,  0.0672,  0.1052, -0.1055])"
      ]
     },
     "execution_count": 17,
     "metadata": {},
     "output_type": "execute_result"
    }
   ],
   "source": [
    "# x0=-0.0067\n",
    "# z0=-0.4925\n",
    "# x=[-0.0066,0.0054,0.0115,0.0084]\n",
    "# z=[-0.5239,-0.4603,-0.4531,-0.5302]\n",
    "x0=-0.0092\n",
    "z0=-0.4878\n",
    "x=[-0.0108,0.0092,0.0216,0.0133]\n",
    "z=[-0.5554,-0.4206,-0.3826,-0.5933]\n",
    "# x0=-0.0027\n",
    "# z0=-0.4918\n",
    "# x=[-0.0027,0.0022,0.0051,0.0033]\n",
    "# z=[-0.5059,-0.4782,-0.4740,-0.5097]\n",
    "\n",
    "#поправка координат с учетом смещения начала отсчета\n",
    "\n",
    "x1=np.zeros(len(x))\n",
    "z1=np.zeros(len(z))\n",
    "for i in range(len(z)):\n",
    "    z1[i]=z[i]-z0\n",
    "    x1[i]=x[i]-x0\n",
    "\n",
    "z1"
   ]
  },
  {
   "cell_type": "code",
   "execution_count": 18,
   "metadata": {},
   "outputs": [
    {
     "data": {
      "image/png": "[encoded data removed]",
      "text/plain": [
       "<Figure size 432x288 with 1 Axes>"
      ]
     },
     "metadata": {
      "needs_background": "light"
     },
     "output_type": "display_data"
    }
   ],
   "source": [
    "max_val = np.max(np.abs(x1+z1))\n",
    "\n",
    "dist_max=0\n",
    "max_idx=0\n",
    "for i in range(len(z1)):\n",
    "    dist = np.abs(z1[i])\n",
    "    if dist > dist_max:\n",
    "        dist_max=dist\n",
    "        max_idx=i\n",
    "\n",
    "max_x=max(abs(np.array(x1)))\n",
    "max_val=dist_max+max_x\n",
    "figure, axs = plt.subplots()\n",
    "draw_circle=plt.Circle((x1[max_idx],0),dist_max, fill=False)\n",
    "\n",
    "axs.set_aspect(1)\n",
    "axs.add_artist(draw_circle)\n",
    "axs.axline((0,-max_val),(0,max_val))\n",
    "axs.axline((-max_val,0),(max_val,0))\n",
    "axs.plot([x1[max_idx],x1[max_idx]],[z1[max_idx],0],c='green',lw=1.0)\n",
    "plt.scatter(x1[0],z1[0],c='#ff7f0e')#orange a\n",
    "plt.scatter(x1[1],z1[1],c='b')#b blue\n",
    "plt.scatter(x1[2],z1[2],c='black')#в  черный\n",
    "plt.scatter(x1[3],z1[3],c='#17becf')#г  зеленый \n",
    "plt.show()\n"
   ]
  },
  {
   "cell_type": "code",
   "execution_count": null,
   "metadata": {},
   "outputs": [],
   "source": []
  }
 ],
 "metadata": {
  "kernelspec": {
   "display_name": "Python 3",
   "language": "python",
   "name": "python3"
  },
  "language_info": {
   "codemirror_mode": {
    "name": "ipython",
    "version": 3
   },
   "file_extension": ".py",
   "mimetype": "text/x-python",
   "name": "python",
   "nbconvert_exporter": "python",
   "pygments_lexer": "ipython3",
   "version": "3.8.3"
  }
 },
 "nbformat": 4,
 "nbformat_minor": 4
}
